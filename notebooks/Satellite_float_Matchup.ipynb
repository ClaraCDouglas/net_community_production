{
 "cells": [
  {
   "cell_type": "markdown",
   "id": "70e0f57d-4ce0-404c-891b-ae3b606dd501",
   "metadata": {},
   "source": [
    "# Matching float profiles to satellite pixels\n",
    "## Import Packages"
   ]
  },
  {
   "cell_type": "code",
   "execution_count": 187,
   "id": "47e2277a-7140-44a8-bfa6-7ee984a89062",
   "metadata": {},
   "outputs": [],
   "source": [
    "import pandas as pd\n",
    "import xarray as xr\n",
    "import glob\n",
    "from pyhdf.SD import SD,SDC\n",
    "import numpy as np\n",
    "from datetime import *\n",
    "from FromBieito.soccom_functions import *\n",
    "import matplotlib.pyplot as plt\n",
    "import matplotlib.dates as mdates"
   ]
  },
  {
   "cell_type": "markdown",
   "id": "81c1857f-0928-43e8-bc51-301e4f114558",
   "metadata": {},
   "source": [
    "## Load in satellite data"
   ]
  },
  {
   "cell_type": "code",
   "execution_count": 20,
   "id": "b12400e7-a113-44a0-8036-2a95961c3047",
   "metadata": {},
   "outputs": [],
   "source": [
    "rootdir = '../data/raw/cafe/'\n",
    "files = sorted(glob.glob(rootdir+\"/*.hdf\"))\n",
    "print(files)\n",
    "\n",
    "fd=xr.open_dataset(files[0])\n",
    "display(fd)"
   ]
  },
  {
   "cell_type": "markdown",
   "id": "9d96c9a9-65f8-4643-a72a-82efc84c0f62",
   "metadata": {},
   "source": [
    "### Time is in matlab datenum \n",
    "= Need to convert to datetime\n",
    "\n",
    "* Pos ask about how to put the values into the xarray dataset, but for now, is made as a separate variable (means a few extra lines later on)"
   ]
  },
  {
   "cell_type": "code",
   "execution_count": 38,
   "id": "3fb62eaa-9e40-4e03-942a-3d0ef6761af5",
   "metadata": {},
   "outputs": [],
   "source": [
    "def datenum_to_datetime(datenum):\n",
    "    \"\"\"\n",
    "    Convert Matlab datenum into Python datetime.\n",
    "    :param datenum: Date in datenum format\n",
    "    :return:        Datetime object corresponding to datenum.\n",
    "    \"\"\"\n",
    "    days = datenum % 1\n",
    "    return datetime.fromordinal(int(datenum)) \\\n",
    "           + timedelta(days=days) \\\n",
    "           - timedelta(days=366)"
   ]
  },
  {
   "cell_type": "code",
   "execution_count": 84,
   "id": "53775c94-8d97-47aa-bd11-9aa898fedb43",
   "metadata": {},
   "outputs": [
    {
     "name": "stdout",
     "output_type": "stream",
     "text": [
      "2014-01-04 23:59:59.500003\n"
     ]
    }
   ],
   "source": [
    "nz= len(fd.date.values)\n",
    "datezz=[]\n",
    "for i in range(0,nz):\n",
    "    datezz=np.append(datezz,datenum_to_datetime(fd.date.values[i]))\n",
    "print(datezz[0])"
   ]
  },
  {
   "cell_type": "code",
   "execution_count": 79,
   "id": "7219e590-a0b6-4304-9a14-a6e038c52e8c",
   "metadata": {},
   "outputs": [
    {
     "data": {
      "text/html": [
       "<div><svg style=\"position: absolute; width: 0; height: 0; overflow: hidden\">\n",
       "<defs>\n",
       "<symbol id=\"icon-database\" viewBox=\"0 0 32 32\">\n",
       "<path d=\"M16 0c-8.837 0-16 2.239-16 5v4c0 2.761 7.163 5 16 5s16-2.239 16-5v-4c0-2.761-7.163-5-16-5z\"></path>\n",
       "<path d=\"M16 17c-8.837 0-16-2.239-16-5v6c0 2.761 7.163 5 16 5s16-2.239 16-5v-6c0 2.761-7.163 5-16 5z\"></path>\n",
       "<path d=\"M16 26c-8.837 0-16-2.239-16-5v6c0 2.761 7.163 5 16 5s16-2.239 16-5v-6c0 2.761-7.163 5-16 5z\"></path>\n",
       "</symbol>\n",
       "<symbol id=\"icon-file-text2\" viewBox=\"0 0 32 32\">\n",
       "<path d=\"M28.681 7.159c-0.694-0.947-1.662-2.053-2.724-3.116s-2.169-2.030-3.116-2.724c-1.612-1.182-2.393-1.319-2.841-1.319h-15.5c-1.378 0-2.5 1.121-2.5 2.5v27c0 1.378 1.122 2.5 2.5 2.5h23c1.378 0 2.5-1.122 2.5-2.5v-19.5c0-0.448-0.137-1.23-1.319-2.841zM24.543 5.457c0.959 0.959 1.712 1.825 2.268 2.543h-4.811v-4.811c0.718 0.556 1.584 1.309 2.543 2.268zM28 29.5c0 0.271-0.229 0.5-0.5 0.5h-23c-0.271 0-0.5-0.229-0.5-0.5v-27c0-0.271 0.229-0.5 0.5-0.5 0 0 15.499-0 15.5 0v7c0 0.552 0.448 1 1 1h7v19.5z\"></path>\n",
       "<path d=\"M23 26h-14c-0.552 0-1-0.448-1-1s0.448-1 1-1h14c0.552 0 1 0.448 1 1s-0.448 1-1 1z\"></path>\n",
       "<path d=\"M23 22h-14c-0.552 0-1-0.448-1-1s0.448-1 1-1h14c0.552 0 1 0.448 1 1s-0.448 1-1 1z\"></path>\n",
       "<path d=\"M23 18h-14c-0.552 0-1-0.448-1-1s0.448-1 1-1h14c0.552 0 1 0.448 1 1s-0.448 1-1 1z\"></path>\n",
       "</symbol>\n",
       "</defs>\n",
       "</svg>\n",
       "<style>/* CSS stylesheet for displaying xarray objects in jupyterlab.\n",
       " *\n",
       " */\n",
       "\n",
       ":root {\n",
       "  --xr-font-color0: var(--jp-content-font-color0, rgba(0, 0, 0, 1));\n",
       "  --xr-font-color2: var(--jp-content-font-color2, rgba(0, 0, 0, 0.54));\n",
       "  --xr-font-color3: var(--jp-content-font-color3, rgba(0, 0, 0, 0.38));\n",
       "  --xr-border-color: var(--jp-border-color2, #e0e0e0);\n",
       "  --xr-disabled-color: var(--jp-layout-color3, #bdbdbd);\n",
       "  --xr-background-color: var(--jp-layout-color0, white);\n",
       "  --xr-background-color-row-even: var(--jp-layout-color1, white);\n",
       "  --xr-background-color-row-odd: var(--jp-layout-color2, #eeeeee);\n",
       "}\n",
       "\n",
       "html[theme=dark],\n",
       "body.vscode-dark {\n",
       "  --xr-font-color0: rgba(255, 255, 255, 1);\n",
       "  --xr-font-color2: rgba(255, 255, 255, 0.54);\n",
       "  --xr-font-color3: rgba(255, 255, 255, 0.38);\n",
       "  --xr-border-color: #1F1F1F;\n",
       "  --xr-disabled-color: #515151;\n",
       "  --xr-background-color: #111111;\n",
       "  --xr-background-color-row-even: #111111;\n",
       "  --xr-background-color-row-odd: #313131;\n",
       "}\n",
       "\n",
       ".xr-wrap {\n",
       "  display: block;\n",
       "  min-width: 300px;\n",
       "  max-width: 700px;\n",
       "}\n",
       "\n",
       ".xr-text-repr-fallback {\n",
       "  /* fallback to plain text repr when CSS is not injected (untrusted notebook) */\n",
       "  display: none;\n",
       "}\n",
       "\n",
       ".xr-header {\n",
       "  padding-top: 6px;\n",
       "  padding-bottom: 6px;\n",
       "  margin-bottom: 4px;\n",
       "  border-bottom: solid 1px var(--xr-border-color);\n",
       "}\n",
       "\n",
       ".xr-header > div,\n",
       ".xr-header > ul {\n",
       "  display: inline;\n",
       "  margin-top: 0;\n",
       "  margin-bottom: 0;\n",
       "}\n",
       "\n",
       ".xr-obj-type,\n",
       ".xr-array-name {\n",
       "  margin-left: 2px;\n",
       "  margin-right: 10px;\n",
       "}\n",
       "\n",
       ".xr-obj-type {\n",
       "  color: var(--xr-font-color2);\n",
       "}\n",
       "\n",
       ".xr-sections {\n",
       "  padding-left: 0 !important;\n",
       "  display: grid;\n",
       "  grid-template-columns: 150px auto auto 1fr 20px 20px;\n",
       "}\n",
       "\n",
       ".xr-section-item {\n",
       "  display: contents;\n",
       "}\n",
       "\n",
       ".xr-section-item input {\n",
       "  display: none;\n",
       "}\n",
       "\n",
       ".xr-section-item input + label {\n",
       "  color: var(--xr-disabled-color);\n",
       "}\n",
       "\n",
       ".xr-section-item input:enabled + label {\n",
       "  cursor: pointer;\n",
       "  color: var(--xr-font-color2);\n",
       "}\n",
       "\n",
       ".xr-section-item input:enabled + label:hover {\n",
       "  color: var(--xr-font-color0);\n",
       "}\n",
       "\n",
       ".xr-section-summary {\n",
       "  grid-column: 1;\n",
       "  color: var(--xr-font-color2);\n",
       "  font-weight: 500;\n",
       "}\n",
       "\n",
       ".xr-section-summary > span {\n",
       "  display: inline-block;\n",
       "  padding-left: 0.5em;\n",
       "}\n",
       "\n",
       ".xr-section-summary-in:disabled + label {\n",
       "  color: var(--xr-font-color2);\n",
       "}\n",
       "\n",
       ".xr-section-summary-in + label:before {\n",
       "  display: inline-block;\n",
       "  content: '►';\n",
       "  font-size: 11px;\n",
       "  width: 15px;\n",
       "  text-align: center;\n",
       "}\n",
       "\n",
       ".xr-section-summary-in:disabled + label:before {\n",
       "  color: var(--xr-disabled-color);\n",
       "}\n",
       "\n",
       ".xr-section-summary-in:checked + label:before {\n",
       "  content: '▼';\n",
       "}\n",
       "\n",
       ".xr-section-summary-in:checked + label > span {\n",
       "  display: none;\n",
       "}\n",
       "\n",
       ".xr-section-summary,\n",
       ".xr-section-inline-details {\n",
       "  padding-top: 4px;\n",
       "  padding-bottom: 4px;\n",
       "}\n",
       "\n",
       ".xr-section-inline-details {\n",
       "  grid-column: 2 / -1;\n",
       "}\n",
       "\n",
       ".xr-section-details {\n",
       "  display: none;\n",
       "  grid-column: 1 / -1;\n",
       "  margin-bottom: 5px;\n",
       "}\n",
       "\n",
       ".xr-section-summary-in:checked ~ .xr-section-details {\n",
       "  display: contents;\n",
       "}\n",
       "\n",
       ".xr-array-wrap {\n",
       "  grid-column: 1 / -1;\n",
       "  display: grid;\n",
       "  grid-template-columns: 20px auto;\n",
       "}\n",
       "\n",
       ".xr-array-wrap > label {\n",
       "  grid-column: 1;\n",
       "  vertical-align: top;\n",
       "}\n",
       "\n",
       ".xr-preview {\n",
       "  color: var(--xr-font-color3);\n",
       "}\n",
       "\n",
       ".xr-array-preview,\n",
       ".xr-array-data {\n",
       "  padding: 0 5px !important;\n",
       "  grid-column: 2;\n",
       "}\n",
       "\n",
       ".xr-array-data,\n",
       ".xr-array-in:checked ~ .xr-array-preview {\n",
       "  display: none;\n",
       "}\n",
       "\n",
       ".xr-array-in:checked ~ .xr-array-data,\n",
       ".xr-array-preview {\n",
       "  display: inline-block;\n",
       "}\n",
       "\n",
       ".xr-dim-list {\n",
       "  display: inline-block !important;\n",
       "  list-style: none;\n",
       "  padding: 0 !important;\n",
       "  margin: 0;\n",
       "}\n",
       "\n",
       ".xr-dim-list li {\n",
       "  display: inline-block;\n",
       "  padding: 0;\n",
       "  margin: 0;\n",
       "}\n",
       "\n",
       ".xr-dim-list:before {\n",
       "  content: '(';\n",
       "}\n",
       "\n",
       ".xr-dim-list:after {\n",
       "  content: ')';\n",
       "}\n",
       "\n",
       ".xr-dim-list li:not(:last-child):after {\n",
       "  content: ',';\n",
       "  padding-right: 5px;\n",
       "}\n",
       "\n",
       ".xr-has-index {\n",
       "  font-weight: bold;\n",
       "}\n",
       "\n",
       ".xr-var-list,\n",
       ".xr-var-item {\n",
       "  display: contents;\n",
       "}\n",
       "\n",
       ".xr-var-item > div,\n",
       ".xr-var-item label,\n",
       ".xr-var-item > .xr-var-name span {\n",
       "  background-color: var(--xr-background-color-row-even);\n",
       "  margin-bottom: 0;\n",
       "}\n",
       "\n",
       ".xr-var-item > .xr-var-name:hover span {\n",
       "  padding-right: 5px;\n",
       "}\n",
       "\n",
       ".xr-var-list > li:nth-child(odd) > div,\n",
       ".xr-var-list > li:nth-child(odd) > label,\n",
       ".xr-var-list > li:nth-child(odd) > .xr-var-name span {\n",
       "  background-color: var(--xr-background-color-row-odd);\n",
       "}\n",
       "\n",
       ".xr-var-name {\n",
       "  grid-column: 1;\n",
       "}\n",
       "\n",
       ".xr-var-dims {\n",
       "  grid-column: 2;\n",
       "}\n",
       "\n",
       ".xr-var-dtype {\n",
       "  grid-column: 3;\n",
       "  text-align: right;\n",
       "  color: var(--xr-font-color2);\n",
       "}\n",
       "\n",
       ".xr-var-preview {\n",
       "  grid-column: 4;\n",
       "}\n",
       "\n",
       ".xr-var-name,\n",
       ".xr-var-dims,\n",
       ".xr-var-dtype,\n",
       ".xr-preview,\n",
       ".xr-attrs dt {\n",
       "  white-space: nowrap;\n",
       "  overflow: hidden;\n",
       "  text-overflow: ellipsis;\n",
       "  padding-right: 10px;\n",
       "}\n",
       "\n",
       ".xr-var-name:hover,\n",
       ".xr-var-dims:hover,\n",
       ".xr-var-dtype:hover,\n",
       ".xr-attrs dt:hover {\n",
       "  overflow: visible;\n",
       "  width: auto;\n",
       "  z-index: 1;\n",
       "}\n",
       "\n",
       ".xr-var-attrs,\n",
       ".xr-var-data {\n",
       "  display: none;\n",
       "  background-color: var(--xr-background-color) !important;\n",
       "  padding-bottom: 5px !important;\n",
       "}\n",
       "\n",
       ".xr-var-attrs-in:checked ~ .xr-var-attrs,\n",
       ".xr-var-data-in:checked ~ .xr-var-data {\n",
       "  display: block;\n",
       "}\n",
       "\n",
       ".xr-var-data > table {\n",
       "  float: right;\n",
       "}\n",
       "\n",
       ".xr-var-name span,\n",
       ".xr-var-data,\n",
       ".xr-attrs {\n",
       "  padding-left: 25px !important;\n",
       "}\n",
       "\n",
       ".xr-attrs,\n",
       ".xr-var-attrs,\n",
       ".xr-var-data {\n",
       "  grid-column: 1 / -1;\n",
       "}\n",
       "\n",
       "dl.xr-attrs {\n",
       "  padding: 0;\n",
       "  margin: 0;\n",
       "  display: grid;\n",
       "  grid-template-columns: 125px auto;\n",
       "}\n",
       "\n",
       ".xr-attrs dt,\n",
       ".xr-attrs dd {\n",
       "  padding: 0;\n",
       "  margin: 0;\n",
       "  float: left;\n",
       "  padding-right: 10px;\n",
       "  width: auto;\n",
       "}\n",
       "\n",
       ".xr-attrs dt {\n",
       "  font-weight: normal;\n",
       "  grid-column: 1;\n",
       "}\n",
       "\n",
       ".xr-attrs dt:hover span {\n",
       "  display: inline-block;\n",
       "  background: var(--xr-background-color);\n",
       "  padding-right: 10px;\n",
       "}\n",
       "\n",
       ".xr-attrs dd {\n",
       "  grid-column: 2;\n",
       "  white-space: pre-wrap;\n",
       "  word-break: break-all;\n",
       "}\n",
       "\n",
       ".xr-icon-database,\n",
       ".xr-icon-file-text2 {\n",
       "  display: inline-block;\n",
       "  vertical-align: middle;\n",
       "  width: 1em;\n",
       "  height: 1.5em !important;\n",
       "  stroke-width: 0;\n",
       "  stroke: currentColor;\n",
       "  fill: currentColor;\n",
       "}\n",
       "</style><pre class='xr-text-repr-fallback'>&lt;xarray.DataArray &#x27;npp&#x27; ()&gt;\n",
       "array(497.196747)\n",
       "Coordinates:\n",
       "    lon      float64 -8.292\n",
       "    lat      float64 -41.71\n",
       "    date     float64 7.357e+05\n",
       "Attributes:\n",
       "    long_name:  Net_Primary_Production\n",
       "    FillValue:  -9999\n",
       "    units:      mg/m^2/d^2</pre><div class='xr-wrap' hidden><div class='xr-header'><div class='xr-obj-type'>xarray.DataArray</div><div class='xr-array-name'>'npp'</div></div><ul class='xr-sections'><li class='xr-section-item'><div class='xr-array-wrap'><input id='section-09065777-385c-4f6f-84da-fbe5bfe78f04' class='xr-array-in' type='checkbox' checked><label for='section-09065777-385c-4f6f-84da-fbe5bfe78f04' title='Show/hide data repr'><svg class='icon xr-icon-database'><use xlink:href='#icon-database'></use></svg></label><div class='xr-array-preview xr-preview'><span>497.2</span></div><div class='xr-array-data'><pre>array(497.196747)</pre></div></div></li><li class='xr-section-item'><input id='section-7b51549e-beab-42e5-b9ef-40f0eba8762b' class='xr-section-summary-in' type='checkbox'  checked><label for='section-7b51549e-beab-42e5-b9ef-40f0eba8762b' class='xr-section-summary' >Coordinates: <span>(3)</span></label><div class='xr-section-inline-details'></div><div class='xr-section-details'><ul class='xr-var-list'><li class='xr-var-item'><div class='xr-var-name'><span>lon</span></div><div class='xr-var-dims'>()</div><div class='xr-var-dtype'>float64</div><div class='xr-var-preview xr-preview'>-8.292</div><input id='attrs-b4d044a4-2801-4d99-9b3a-deade60eb1ba' class='xr-var-attrs-in' type='checkbox' ><label for='attrs-b4d044a4-2801-4d99-9b3a-deade60eb1ba' title='Show/Hide attributes'><svg class='icon xr-icon-file-text2'><use xlink:href='#icon-file-text2'></use></svg></label><input id='data-0d79ae7f-355c-45fc-8521-5abb108ba0f3' class='xr-var-data-in' type='checkbox'><label for='data-0d79ae7f-355c-45fc-8521-5abb108ba0f3' title='Show/Hide data repr'><svg class='icon xr-icon-database'><use xlink:href='#icon-database'></use></svg></label><div class='xr-var-attrs'><dl class='xr-attrs'><dt><span>standard_name :</span></dt><dd>lon</dd><dt><span>long_name :</span></dt><dd>longitude</dd><dt><span>units :</span></dt><dd>degrees_east</dd><dt><span>axis :</span></dt><dd>X</dd></dl></div><div class='xr-var-data'><pre>array(-8.29166667)</pre></div></li><li class='xr-var-item'><div class='xr-var-name'><span>lat</span></div><div class='xr-var-dims'>()</div><div class='xr-var-dtype'>float64</div><div class='xr-var-preview xr-preview'>-41.71</div><input id='attrs-a83033ad-2028-4c4d-a827-fd6c13a182aa' class='xr-var-attrs-in' type='checkbox' ><label for='attrs-a83033ad-2028-4c4d-a827-fd6c13a182aa' title='Show/Hide attributes'><svg class='icon xr-icon-file-text2'><use xlink:href='#icon-file-text2'></use></svg></label><input id='data-3e4670e6-5c85-47f7-8948-5e54e6fae134' class='xr-var-data-in' type='checkbox'><label for='data-3e4670e6-5c85-47f7-8948-5e54e6fae134' title='Show/Hide data repr'><svg class='icon xr-icon-database'><use xlink:href='#icon-database'></use></svg></label><div class='xr-var-attrs'><dl class='xr-attrs'><dt><span>standard_name :</span></dt><dd>lat</dd><dt><span>long_name :</span></dt><dd>latitude</dd><dt><span>units :</span></dt><dd>degrees_north</dd><dt><span>axis :</span></dt><dd>Y</dd></dl></div><div class='xr-var-data'><pre>array(-41.70833333)</pre></div></li><li class='xr-var-item'><div class='xr-var-name'><span>date</span></div><div class='xr-var-dims'>()</div><div class='xr-var-dtype'>float64</div><div class='xr-var-preview xr-preview'>7.357e+05</div><input id='attrs-6e724912-00af-46b9-b257-7e7e242ef55c' class='xr-var-attrs-in' type='checkbox' ><label for='attrs-6e724912-00af-46b9-b257-7e7e242ef55c' title='Show/Hide attributes'><svg class='icon xr-icon-file-text2'><use xlink:href='#icon-file-text2'></use></svg></label><input id='data-d29a1d25-b0e2-4e66-8017-2c3d29e94825' class='xr-var-data-in' type='checkbox'><label for='data-d29a1d25-b0e2-4e66-8017-2c3d29e94825' title='Show/Hide data repr'><svg class='icon xr-icon-database'><use xlink:href='#icon-database'></use></svg></label><div class='xr-var-attrs'><dl class='xr-attrs'><dt><span>long_name :</span></dt><dd>datetime</dd><dt><span>units :</span></dt><dd>datetime_dd-mm-yyyy_hh:mm:ss</dd><dt><span>axis :</span></dt><dd>Z</dd></dl></div><div class='xr-var-data'><pre>array(735651.99999421)</pre></div></li></ul></div></li><li class='xr-section-item'><input id='section-c4049b95-6f02-442b-844b-ca57802e4044' class='xr-section-summary-in' type='checkbox'  checked><label for='section-c4049b95-6f02-442b-844b-ca57802e4044' class='xr-section-summary' >Attributes: <span>(3)</span></label><div class='xr-section-inline-details'></div><div class='xr-section-details'><dl class='xr-attrs'><dt><span>long_name :</span></dt><dd>Net_Primary_Production</dd><dt><span>FillValue :</span></dt><dd>-9999</dd><dt><span>units :</span></dt><dd>mg/m^2/d^2</dd></dl></div></li></ul></div></div>"
      ],
      "text/plain": [
       "<xarray.DataArray 'npp' ()>\n",
       "array(497.196747)\n",
       "Coordinates:\n",
       "    lon      float64 -8.292\n",
       "    lat      float64 -41.71\n",
       "    date     float64 7.357e+05\n",
       "Attributes:\n",
       "    long_name:  Net_Primary_Production\n",
       "    FillValue:  -9999\n",
       "    units:      mg/m^2/d^2"
      ]
     },
     "metadata": {},
     "output_type": "display_data"
    },
    {
     "data": {
      "text/plain": [
       "array(497.19674683)"
      ]
     },
     "execution_count": 79,
     "metadata": {},
     "output_type": "execute_result"
    }
   ],
   "source": [
    "display(fd['npp'].isel(date=6,lat=500,lon=800))\n",
    "fd['npp'].isel(date=6,lat=500,lon=800).values"
   ]
  },
  {
   "cell_type": "markdown",
   "id": "9709a5a0-5b64-4f96-8e4f-32360694fc54",
   "metadata": {},
   "source": [
    "## Load in float data\n",
    "One at a time for the moment"
   ]
  },
  {
   "cell_type": "code",
   "execution_count": 140,
   "id": "62e0e5fc-1744-4afc-96cf-2eb9d25141ce",
   "metadata": {},
   "outputs": [
    {
     "name": "stderr",
     "output_type": "stream",
     "text": [
      "C:\\Users\\Clara Douglas\\OneDrive - University of Southampton\\PhD\\Projects\\net_community_production\\notebooks\\FromBieito\\soccom_functions.py:338: RuntimeWarning: Mean of empty slice\n",
      "  self.gr[\"LT\"][j,i] = np.nanmean(disp[jj]**2)**0.5\n"
     ]
    },
    {
     "name": "stdout",
     "output_type": "stream",
     "text": [
      "This float is WMO code: 5904472\n"
     ]
    }
   ],
   "source": [
    "file_folder = \"../data/raw/WGfloats/\" # specify directory relative to location of notebook #SOCCOM_HiResQC_LIAR_21Dec2021_netcdf\n",
    "                # WGfloats\n",
    "float_number = \"5904472\" #7900918 #9094/5904471 #5904397\n",
    "\n",
    "files = sorted(glob.glob(file_folder+\"/*\"+float_number+\"*.nc\"))\n",
    "#print(files)\n",
    "#files = sorted(glob.glob(file_folder+\"/*.nc\"))\n",
    "\n",
    "#uses the function that reads and grids the data\n",
    "FLOAT = grids_one_buoy(files[0],display_info = False, DO_ml_crit = 2.5, clear_short = True)\n",
    "\n",
    "#the gridded data is located in the dictionary FLOAT.gr, and contains the following variables\n",
    "#print(FLOAT.gr.keys())\n",
    "#print(FLOAT.raw_bg.keys())\n",
    "\n",
    "print(\"This float is WMO code: %s\"%(FLOAT.gr[\"WMO_code\"]))"
   ]
  },
  {
   "cell_type": "markdown",
   "id": "96c8aa1e-09e5-4a91-9bc9-abc7f356e978",
   "metadata": {},
   "source": [
    "## Match-up"
   ]
  },
  {
   "cell_type": "markdown",
   "id": "7d20c105-11d1-4d2c-813f-30aeb0547fe3",
   "metadata": {
    "tags": []
   },
   "source": [
    "### Get info from a single profile"
   ]
  },
  {
   "cell_type": "code",
   "execution_count": 141,
   "id": "3ed43394-b833-48b7-a053-5dc2efca5c9a",
   "metadata": {},
   "outputs": [
    {
     "name": "stdout",
     "output_type": "stream",
     "text": [
      "2015-01-18 21:33:59.999999\n",
      "-67.661\n",
      "-1.7620000000000005\n"
     ]
    }
   ],
   "source": [
    "print(FLOAT.gr[\"date_dt\"][0])\n",
    "print(FLOAT.gr[\"Lat\"][0])\n",
    "print(FLOAT.gr[\"Lon\"][0])\n"
   ]
  },
  {
   "cell_type": "markdown",
   "id": "c1669f29-7c79-446a-a21f-1e8fd92fbbe1",
   "metadata": {},
   "source": [
    "### Select satellite pixel and get NPP value"
   ]
  },
  {
   "cell_type": "code",
   "execution_count": 142,
   "id": "c9c59e8f-21f5-40cf-8cf2-6969ffd87647",
   "metadata": {},
   "outputs": [
    {
     "name": "stdout",
     "output_type": "stream",
     "text": [
      "Nearest date from float date : 2015-01-20 23:59:59.500003\n"
     ]
    },
    {
     "name": "stderr",
     "output_type": "stream",
     "text": [
      "C:\\anaconda\\anaconda3\\envs\\argo_ncp\\lib\\site-packages\\xarray\\core\\indexes.py:234: FutureWarning: Passing method to Float64Index.get_loc is deprecated and will raise in a future version. Use index.get_indexer([item], method=...) instead.\n",
      "  indexer = self.index.get_loc(\n",
      "C:\\anaconda\\anaconda3\\envs\\argo_ncp\\lib\\site-packages\\xarray\\core\\indexes.py:234: FutureWarning: Passing method to Float64Index.get_loc is deprecated and will raise in a future version. Use index.get_indexer([item], method=...) instead.\n",
      "  indexer = self.index.get_loc(\n"
     ]
    },
    {
     "data": {
      "text/plain": [
       "array([-9999.])"
      ]
     },
     "execution_count": 142,
     "metadata": {},
     "output_type": "execute_result"
    }
   ],
   "source": [
    "float_date = FLOAT.gr[\"date_dt\"][0]\n",
    "# get all differences with date as values \n",
    "cloz_dict = { \n",
    "  abs(float_date.timestamp() - date.timestamp()) : date \n",
    "  for date in datezz}\n",
    "# extracting minimum key using min()\n",
    "sat_date = cloz_dict[min(cloz_dict.keys())]\n",
    "# printing result\n",
    "print(\"Nearest date from float date : \" + str(sat_date))\n",
    "\n",
    "date_ix=np.where(datezz==sat_date)\n",
    "date_sel=fd['date'][date_ix]\n",
    "\n",
    "fd['npp'].sel(date=date_sel,lat=FLOAT.gr[\"Lat\"][0],lon=FLOAT.gr[\"Lon\"][0],method='nearest').values"
   ]
  },
  {
   "cell_type": "markdown",
   "id": "9bc17f58-ac2e-4907-8655-a541e034864e",
   "metadata": {
    "tags": []
   },
   "source": [
    "### Get info from profiles - all"
   ]
  },
  {
   "cell_type": "code",
   "execution_count": 153,
   "id": "14ecbc68-7abf-46c4-be0f-264c832892b3",
   "metadata": {},
   "outputs": [],
   "source": [
    "import warnings\n",
    "warnings.filterwarnings('ignore')\n",
    "# because next cell has warnings for each iteration -- ask someone about them in future"
   ]
  },
  {
   "cell_type": "code",
   "execution_count": 160,
   "id": "ffc8026c-9b91-4af7-899e-1bbcb5b32ca8",
   "metadata": {},
   "outputs": [],
   "source": [
    "fz=len(FLOAT.gr[\"date_dt\"])\n",
    "## Select satellite pixel and get NPP value\n",
    "NPP_atprofiles=np.full(fz,np.nan)\n",
    "sat_date=[]\n",
    "for fix in range(0,fz):\n",
    "    #print(FLOAT.gr[\"date_dt\"][fix])\n",
    "    #print(FLOAT.gr[\"Lat\"][0])\n",
    "    #print(FLOAT.gr[\"Lon\"][0])\n",
    "    float_date = FLOAT.gr[\"date_dt\"][fix]\n",
    "    # get all differences with date as values \n",
    "    cloz_dict = { \n",
    "      abs(float_date.timestamp() - date.timestamp()) : date \n",
    "      for date in datezz}\n",
    "    # extracting minimum key using min()\n",
    "    sat_date = np.append(sat_date,cloz_dict[min(cloz_dict.keys())])\n",
    "    #print(\"Nearest date from float date : \" + str(sat_date))\n",
    "    \n",
    "    date_ix=np.where(datezz==sat_date[fix])\n",
    "    date_sel=fd['date'][date_ix]\n",
    "    \n",
    "    NPP_atprofiles[fix]=fd['npp'].sel(date=date_sel,lat=FLOAT.gr[\"Lat\"][0],lon=FLOAT.gr[\"Lon\"][0],method='nearest').values"
   ]
  },
  {
   "cell_type": "code",
   "execution_count": 161,
   "id": "1d6034db-bc69-45ed-a1f2-55666585e389",
   "metadata": {},
   "outputs": [
    {
     "data": {
      "text/plain": [
       "array([          nan,           nan,  513.06500244,  293.91830444,\n",
       "        380.41482544,  318.09121704,  188.18531799,           nan,\n",
       "                 nan,           nan,           nan,           nan,\n",
       "                 nan,           nan,           nan,           nan,\n",
       "                 nan,           nan,           nan,           nan,\n",
       "                 nan,           nan,           nan,           nan,\n",
       "                 nan,           nan,           nan,           nan,\n",
       "                 nan,           nan,           nan,           nan,\n",
       "                 nan,           nan,           nan,           nan,\n",
       "                 nan, 1026.82299805,  538.63830566,  718.87670898,\n",
       "        460.18942261,  453.43225098,           nan,           nan,\n",
       "                 nan,           nan,           nan,           nan,\n",
       "                 nan,           nan,           nan,           nan,\n",
       "                 nan,           nan,           nan,           nan,\n",
       "                 nan,           nan,           nan,           nan,\n",
       "                 nan,           nan,           nan,           nan,\n",
       "                 nan,           nan,           nan, 1105.15258789,\n",
       "        878.82348633,  728.99853516,  625.52349854,  552.38470459,\n",
       "        526.82000732,  422.89575195,  477.21414185,  366.17218018,\n",
       "        195.06420898,  197.21434021,           nan,           nan,\n",
       "                 nan,           nan,           nan,           nan,\n",
       "                 nan,           nan,           nan,           nan,\n",
       "                 nan,           nan,           nan,           nan,\n",
       "                 nan,           nan,           nan,           nan,\n",
       "                 nan,           nan,           nan,           nan,\n",
       "                 nan,           nan,           nan,           nan,\n",
       "        629.19348145,  603.86175537,  510.55377197,  524.18182373,\n",
       "        336.78704834,  336.0632019 ,  288.35150146,  251.20851135,\n",
       "        229.9055481 ,  203.99378967,           nan,           nan,\n",
       "                 nan,           nan,           nan,           nan,\n",
       "                 nan,           nan,           nan,           nan,\n",
       "                 nan,           nan,           nan,           nan,\n",
       "                 nan,           nan,           nan,           nan,\n",
       "                 nan,           nan,           nan,           nan,\n",
       "                 nan,           nan,           nan,  425.27423096,\n",
       "        598.4329834 ,  858.42553711,  736.22399902,  835.55786133,\n",
       "        788.00415039,  535.77880859,  468.06411743,  349.7293396 ,\n",
       "        385.48620605,           nan,           nan])"
      ]
     },
     "metadata": {},
     "output_type": "display_data"
    }
   ],
   "source": [
    "NPP_atprofiles[np.where(NPP_atprofiles<0)]=np.nan\n",
    "display(NPP_atprofiles)"
   ]
  },
  {
   "cell_type": "code",
   "execution_count": 164,
   "id": "a4a93dd2-abd9-47fc-a44f-417c99da55f3",
   "metadata": {},
   "outputs": [
    {
     "data": {
      "text/plain": [
       "Text(0.5, 0, 'Date')"
      ]
     },
     "execution_count": 164,
     "metadata": {},
     "output_type": "execute_result"
    },
    {
     "data": {
      "image/png": "[encoded data removed]",
      "text/plain": [
       "<Figure size 1440x576 with 1 Axes>"
      ]
     },
     "metadata": {
      "needs_background": "light"
     },
     "output_type": "display_data"
    }
   ],
   "source": [
    "#Plot\n",
    "fig = plt.subplots(figsize = (20, 8))\n",
    "plt.plot(sat_date,NPP_atprofiles, c='black')\n",
    "plt.ylabel('NPP (mg/m2/d1)')\n",
    "plt.xlabel('Date')"
   ]
  },
  {
   "cell_type": "code",
   "execution_count": 174,
   "id": "eb2bb1e5-a87b-42c0-a991-a3b992699481",
   "metadata": {},
   "outputs": [],
   "source": [
    "from PyAstronomy import pyasl"
   ]
  },
  {
   "cell_type": "code",
   "execution_count": 168,
   "id": "cfcfc29a-72f3-4680-a4bb-a945ba8929f6",
   "metadata": {},
   "outputs": [],
   "source": [
    "# calculate the vertically integrated data column inventory using the composite trapezoidal rule\n",
    "def integrate(zi, data, depth_range):\n",
    "    n_profs = len(data)\n",
    "    zi_start = abs(zi - depth_range[0]).argmin() # find location of start depth\n",
    "    zi_end =  abs(zi - depth_range[1]).argmin() # find location of end depth\n",
    "    zi_struct = np.ones((n_profs, 1)) * zi[zi_start : zi_end] # add +1 to get the 200m value\n",
    "    data = data[:, zi_start : zi_end] # add +1 to get the 200m value\n",
    "    col_inv = []\n",
    "    for n in range(0, len(data)):\n",
    "        col_inv.append(np.trapz(data[n,:][~np.isnan(data[n,:])], zi_struct[n,:][~np.isnan(data[n,:])]))\n",
    "    return col_inv"
   ]
  },
  {
   "cell_type": "code",
   "execution_count": 169,
   "id": "04f2a5bf-417b-4a92-8581-64be6fcf4e5a",
   "metadata": {},
   "outputs": [],
   "source": [
    "# calculate the vertically integrated data column inventory using the composite trapezoidal rule\n",
    "def integrate_wMLD(zi, data, start_depth, MLD):\n",
    "    #n_profs = len(data)\n",
    "    zi_start = abs(zi - start_depth).argmin() # find index of start depth\n",
    "    zi_end =  abs(zi - MLD).argmin() # find index of end depth\n",
    "    zi_struct = zi[zi_start : zi_end] # add +1 to get the 200m value\n",
    "    data = data[zi_start : zi_end] # add +1 to get the 200m value\n",
    "    col_inv = []\n",
    "    #for n in range(0, len(data)):\n",
    "    col_inv.append(np.trapz(data[:][~np.isnan(data[:])], zi_struct[:][~np.isnan(data[:])]))\n",
    "    return col_inv"
   ]
  },
  {
   "cell_type": "code",
   "execution_count": 170,
   "id": "349f1870-2ca5-45e1-a285-4fb6363db916",
   "metadata": {},
   "outputs": [],
   "source": [
    "def integrate_chl(data):\n",
    "    # Interpolate/get data set up\n",
    "    zi = np.arange(0, 2005, 5) # 5 = 400 depth intervals between 0m to 2000m\n",
    "    #or zi=self.gr[\"depth\"] #which = np.arange(0,2000+dz,dz)\n",
    "    chl_int = FLOAT.gr[\"Chl_a\"] # interpolated chl values across zi depth intervals for all profiles\n",
    "    \n",
    "    ### Using a fixed lower limit\n",
    "    # Integrate chl - total chl in upper 200m\n",
    "    upperlim=0\n",
    "    lowerlim=200\n",
    "    AllFloats[FLOAT.gr[\"WMO_code\"]]['chl_intr200'] = np.array(integrate(zi, chl_int.T, [upperlim, lowerlim])) # integrate interpolated nitrate values between 0m-200m \n",
    "    \n",
    "    ### Using the deepest MLD seen by the float\n",
    "    # Integrate chl - total chl in upper ML - to deepest MLD seen by float\n",
    "    upperlim=0\n",
    "    lowerlim=np.nanmax(FLOAT.gr[\"mld\"])\n",
    "    print(FLOAT.gr[\"WMO_code\"],\"Deepest mixed layer: %1.0f m\"%(lowerlim))\n",
    "    AllFloats[FLOAT.gr[\"WMO_code\"]]['chl_intr_dMLD'] = np.array(integrate(zi, chl_int.T, [upperlim, lowerlim])) # integrate interpolated nitrate values between 0m-200m \n",
    "\n",
    "    ### Using the profile specific MLD\n",
    "    H2=FLOAT.gr[\"mld\"]\n",
    "    nz= len(H2)\n",
    "    # using MLD calculated for each individual profile\n",
    "    chl_T=chl_int.T # the interpolated chl from FLOAT.gr\n",
    "    AllFloats[FLOAT.gr[\"WMO_code\"]]['dint_chla'] = np.full( nz, np.nan )\n",
    "    for i in range(nz): #nz = length H2 (mld array) = number of profiles\n",
    "        if np.isnan(H2[i]):\n",
    "            AllFloats[FLOAT.gr[\"WMO_code\"]]['dint_chla'][i] = np.nan # in float used to write code, there were some nan for MLD because of no salinity values recorded\n",
    "        else:\n",
    "            lowerlim=H2[i]\n",
    "            data=chl_T[i,:]\n",
    "            AllFloats[FLOAT.gr[\"WMO_code\"]]['dint_chla'][i] = np.array(integrate_wMLD(zi, data, upperlim, lowerlim)) # integrate interpolated nitrate values between 0m-specificMLD\n",
    "    \n",
    "    ### The entire water column\n",
    "    upperlim=0\n",
    "    lowerlim=2000\n",
    "    AllFloats[FLOAT.gr[\"WMO_code\"]]['chl_intrWC'] = np.array(integrate(zi, chl_int.T, [upperlim, lowerlim])) # integrate interpolated nitrate values between 0m-200m \n",
    "    \n",
    "    return AllFloats[FLOAT.gr[\"WMO_code\"]]['chl_intr200'],AllFloats[FLOAT.gr[\"WMO_code\"]]['chl_intr_dMLD'],AllFloats[FLOAT.gr[\"WMO_code\"]]['dint_chla'],AllFloats[FLOAT.gr[\"WMO_code\"]]['chl_intrWC']\n",
    "    #or return AllFloats                                      "
   ]
  },
  {
   "cell_type": "code",
   "execution_count": 171,
   "id": "da9a34e8-2e20-4c0b-b0fb-6592a5bb6692",
   "metadata": {},
   "outputs": [],
   "source": [
    "def chl_underornoice(data,yix):\n",
    "    H2=FLOAT.gr[\"mld\"]\n",
    "    nz= len(H2)\n",
    "    ## How much of the annual chl was present under ice?\n",
    "    AllFloats[FLOAT.gr[\"WMO_code\"]]['underice_yesno']=np.full(nz, np.nan)\n",
    "    for i in range(nz):\n",
    "        test=np.isnan(FLOAT.gr[\"Chl_a\"][0,i]) & np.isnan(FLOAT.gr[\"Chl_a\"][1,i]) & np.isnan(FLOAT.gr[\"Chl_a\"][2,i]) #& np.isnan(FLOAT.gr[\"Chl_a\"][3,i]) #& np.isnan(FLOAT.gr[\"Chl_a\"][4,i]) #& np.isnan(FLOAT.gr[\"Chl_a\"][5,i])\n",
    "        temp_thres=FLOAT.gr[\"Temperature\"][0:4,i]<(-1.78)\n",
    "        if test:\n",
    "            AllFloats[FLOAT.gr[\"WMO_code\"]]['underice_yesno'][i]=1\n",
    "        else:\n",
    "            AllFloats[FLOAT.gr[\"WMO_code\"]]['underice_yesno'][i]=0\n",
    "    #### Over the whole float timeseries\n",
    "    ui=np.where(np.isnan(FLOAT.gr[\"Chl_a\"][0,:]) & np.isnan(FLOAT.gr[\"Chl_a\"][1,:]) & np.isnan(FLOAT.gr[\"Chl_a\"][2,:]) & np.isnan(FLOAT.gr[\"Chl_a\"][3,:])) #& np.isnan(FLOAT.gr[\"Chl_a\"][4,i]) #& np.isnan(FLOAT.gr[\"Chl_a\"][5,i])\n",
    "    ui_tot=np.nansum(AllFloats[FLOAT.gr[\"WMO_code\"]]['chl_intr_dMLD'][ui])\n",
    "    nui=np.where(np.isfinite(FLOAT.gr[\"Chl_a\"][0,:]) & np.isnan(FLOAT.gr[\"Chl_a\"][1,:]) & np.isnan(FLOAT.gr[\"Chl_a\"][2,:]) & np.isnan(FLOAT.gr[\"Chl_a\"][3,:])) #& np.isnan(FLOAT.gr[\"Chl_a\"][4,i]) #& np.isnan(FLOAT.gr[\"Chl_a\"][5,i])\n",
    "    nui_tot=np.nansum(AllFloats[FLOAT.gr[\"WMO_code\"]]['chl_intr_dMLD'][test])\n",
    "    #print(np.nansum(chl_intr_dMLD))\n",
    "    #print('approx % of chl under ice during float timeseries:', round(ui_tot/nui_tot*100,2),'%')\n",
    "    \n",
    "    #### get index for profiles that are in austral year, under ice and ice free\n",
    "    AllFloats[FLOAT.gr[\"WMO_code\"]][yix][\"aust_ix\"]=[]\n",
    "    AllFloats[FLOAT.gr[\"WMO_code\"]][yix][\"underice_ix\"]=[]\n",
    "    AllFloats[FLOAT.gr[\"WMO_code\"]][yix][\"icefree_ix\"]=[]\n",
    "    for i in range(len(FLOAT.gr[\"date_dt\"])):\n",
    "        decy = pyasl.decimalYear(FLOAT.gr[\"date_dt\"][i]) #might be more efficient to make decy an np.int_ here so all the logical queries can be called at once?...\n",
    "        smol=decy>=(yix-0.5)\n",
    "        tol=decy<(yix+0.5)\n",
    "        underice=AllFloats[FLOAT.gr[\"WMO_code\"]]['underice_yesno'][i]>0\n",
    "        icefree=AllFloats[FLOAT.gr[\"WMO_code\"]]['underice_yesno'][i]==0\n",
    "        if smol==tol:\n",
    "            AllFloats[FLOAT.gr[\"WMO_code\"]][yix][\"aust_ix\"]=np.append(AllFloats[FLOAT.gr[\"WMO_code\"]][yix][\"aust_ix\"],np.int_(i))\n",
    "        if smol==tol==underice:\n",
    "            AllFloats[FLOAT.gr[\"WMO_code\"]][yix][\"underice_ix\"]=np.append(AllFloats[FLOAT.gr[\"WMO_code\"]][yix][\"underice_ix\"],i)\n",
    "        if smol==tol==icefree:\n",
    "            AllFloats[FLOAT.gr[\"WMO_code\"]][yix][\"icefree_ix\"]=np.append(AllFloats[FLOAT.gr[\"WMO_code\"]][yix][\"icefree_ix\"],i)\n",
    "    AllFloats[FLOAT.gr[\"WMO_code\"]][yix][\"aust_ix\"]=np.int_(AllFloats[FLOAT.gr[\"WMO_code\"]][yix][\"aust_ix\"])\n",
    "    AllFloats[FLOAT.gr[\"WMO_code\"]][yix][\"underice_ix\"]=np.int_(AllFloats[FLOAT.gr[\"WMO_code\"]][yix][\"underice_ix\"])\n",
    "    AllFloats[FLOAT.gr[\"WMO_code\"]][yix][\"icefree_ix\"]=np.int_(AllFloats[FLOAT.gr[\"WMO_code\"]][yix][\"icefree_ix\"])\n",
    "    # pos exlude years with <34 profiles from next lot of calculations?\n",
    "    ### Calculate how much Chl is present at specific times - whole year, under ice, when there's no ice\n",
    "    #could add if rule: if len(AllFloats['5904472'][endyear][\"aust_ix\"])<34: continue... or [] =np.nan\n",
    "    #### Total in austral year\n",
    "    AllFloats[FLOAT.gr[\"WMO_code\"]][yix][\"Tot_aus_chl\"]=np.round(np.nansum(AllFloats[FLOAT.gr[\"WMO_code\"]]['chl_intr200'][AllFloats[FLOAT.gr[\"WMO_code\"]][yix][\"aust_ix\"]]),6)\n",
    "    #### Total under ice\n",
    "    AllFloats[FLOAT.gr[\"WMO_code\"]][yix][\"Tot_underice_chl\"]=np.round(np.nansum(AllFloats[FLOAT.gr[\"WMO_code\"]]['chl_intr200'][AllFloats[FLOAT.gr[\"WMO_code\"]][yix][\"underice_ix\"]]),6)\n",
    "    #### Total when ice-free\n",
    "    AllFloats[FLOAT.gr[\"WMO_code\"]][yix][\"Tot_icefree_chl\"]=np.round(np.nansum(AllFloats[FLOAT.gr[\"WMO_code\"]]['chl_intr200'][AllFloats[FLOAT.gr[\"WMO_code\"]][yix][\"icefree_ix\"]]),6)\n",
    "    #### proportion under ice for austral year\n",
    "    AllFloats[FLOAT.gr[\"WMO_code\"]][yix][\"Prop_underice\"]=AllFloats[FLOAT.gr[\"WMO_code\"]][yix][\"Tot_underice_chl\"]/AllFloats[FLOAT.gr[\"WMO_code\"]][yix][\"Tot_aus_chl\"]\n",
    "    AllFloats[FLOAT.gr[\"WMO_code\"]][yix][\"Prop_icefree\"]=AllFloats[FLOAT.gr[\"WMO_code\"]][yix][\"Tot_icefree_chl\"]/AllFloats[FLOAT.gr[\"WMO_code\"]][yix][\"Tot_aus_chl\"]\n",
    "    #### Mean [Chl] in WC\n",
    "    #AllFloats['5904472'][yix][\"Mean_aus_chl\"]=np.round(np.nanmean(chl_intrWC[AllFloats['5904472'][yix][\"aust_ix\"]]),6)\n",
    "    #for yix in range(startyear,endyear+1,1):\n",
    "    print(yix,\"under ice\",np.round(AllFloats[FLOAT.gr[\"WMO_code\"]][yix][\"Prop_underice\"],3))\n",
    "    #for yix in range(startyear,endyear+1,1):\n",
    "    #    print(yix,\"ice free\",np.round(AllFloats['5904472'][yix][\"Prop_icefree\"],3))\n",
    "    \n",
    "    #return AllFloats[FLOAT.gr[\"WMO_code\"]]['underice_yesno'],AllFloats[FLOAT.gr[\"WMO_code\"]][yix][\"aust_ix\"],AllFloats[FLOAT.gr[\"WMO_code\"]][yix][\"underice_ix\"],AllFloats[FLOAT.gr[\"WMO_code\"]][yix][\"icefree_ix\"],AllFloats[FLOAT.gr[\"WMO_code\"]][yix][\"Tot_aus_chl\"],AllFloats[FLOAT.gr[\"WMO_code\"]][yix][\"Tot_underice_chl\"],AllFloats[FLOAT.gr[\"WMO_code\"]][yix][\"Tot_icefree_chl\"],AllFloats[FLOAT.gr[\"WMO_code\"]][yix][\"Prop_underice\"],AllFloats[FLOAT.gr[\"WMO_code\"]][yix][\"Prop_icefree\"]\n",
    "    return AllFloats"
   ]
  },
  {
   "cell_type": "code",
   "execution_count": 172,
   "id": "34ed319c-7ecc-4677-bd50-87341dc129bd",
   "metadata": {
    "tags": []
   },
   "outputs": [],
   "source": [
    "def nosat_chl(data,yix):\n",
    "    ## What is happening to the chl when the satellite isn't seeing the ice-free waters (from ~mid March)?\n",
    "    Mar3015=datetime.datetime(2015,3,30)\n",
    "    decmar15=pyasl.decimalYear(Mar3015)\n",
    "    Mar2116=datetime.datetime(2016,3,21)\n",
    "    decmar16=pyasl.decimalYear(Mar2116)\n",
    "    Mar2217=datetime.datetime(2017,3,22)\n",
    "    decmar17=pyasl.decimalYear(Mar2217)\n",
    "    Mar1418=datetime.datetime(2018,3,14)\n",
    "    decmar18=pyasl.decimalYear(Mar1418)\n",
    "    Mar1419=datetime.datetime(2019,3,14)\n",
    "    decmar19=pyasl.decimalYear(Mar1419)\n",
    "    Mar2120=datetime.datetime(2020,3,21)\n",
    "    decmar20=pyasl.decimalYear(Mar2120)\n",
    "\n",
    "    AllFloats[FLOAT.gr[\"WMO_code\"]][yix][\"no_sat\"]=[]\n",
    "    for i in range(len(FLOAT.gr[\"date_dt\"])):\n",
    "        decy = pyasl.decimalYear(FLOAT.gr[\"date_dt\"][i])\n",
    "        smol=decy>=(yix-0.5)\n",
    "        tol=decy<(yix+0.5)\n",
    "        icefree=AllFloats[FLOAT.gr[\"WMO_code\"]]['underice_yesno'][i]==0\n",
    "        if yix==2015:\n",
    "            mar=decy>decmar15\n",
    "        elif yix==2016:\n",
    "            mar=decy>decmar16\n",
    "        elif yix==2017:\n",
    "            mar=decy>decmar17\n",
    "        elif yix==2018:\n",
    "            mar=decy>decmar18\n",
    "        elif yix==2019:\n",
    "            mar=decy>decmar19\n",
    "        elif yix==2020:\n",
    "            mar=decy>decmar20\n",
    "        elif yix==2021:\n",
    "            continue\n",
    "        if smol==tol==icefree==mar:\n",
    "            AllFloats[FLOAT.gr[\"WMO_code\"]][yix][\"no_sat\"]=np.append(AllFloats[FLOAT.gr[\"WMO_code\"]][yix][\"no_sat\"],i)\n",
    "        AllFloats[FLOAT.gr[\"WMO_code\"]][yix][\"no_sat\"]=np.int_(AllFloats[FLOAT.gr[\"WMO_code\"]][yix][\"no_sat\"])\n",
    "    \n",
    "    #could add if rule: if len(AllFloats['5904472'][endyear][\"aust_ix\"])<34: continue... or [] =np.nan\n",
    "    #### Total chl when satellite field of view reduces during March, but before ice returns\n",
    "    AllFloats[FLOAT.gr[\"WMO_code\"]][yix][\"Tot_nosat_chl\"]=np.round(np.nansum(AllFloats[FLOAT.gr[\"WMO_code\"]]['chl_intr200'][AllFloats[FLOAT.gr[\"WMO_code\"]][yix][\"no_sat\"]]),6)\n",
    "    #### proportion under ice for austral year\n",
    "    AllFloats[FLOAT.gr[\"WMO_code\"]][yix][\"Prop_nosat\"]=AllFloats[FLOAT.gr[\"WMO_code\"]][yix][\"Tot_nosat_chl\"]/AllFloats[FLOAT.gr[\"WMO_code\"]][yix][\"Tot_aus_chl\"]\n",
    "    print(yix,\"no satellite coverage\",np.round(AllFloats[FLOAT.gr[\"WMO_code\"]][yix][\"Prop_nosat\"],3))\n",
    "    return AllFloats"
   ]
  },
  {
   "cell_type": "code",
   "execution_count": 175,
   "id": "cf4941bf-acbe-4523-a589-fb40785c08ff",
   "metadata": {},
   "outputs": [
    {
     "name": "stdout",
     "output_type": "stream",
     "text": [
      "5904472 Deepest mixed layer: 145 m\n",
      "2015 under ice 0.172\n",
      "2015 no satellite coverage 0.074\n",
      "2016 under ice 0.167\n",
      "2016 no satellite coverage 0.057\n",
      "2017 under ice 0.047\n",
      "2017 no satellite coverage 0.017\n",
      "2018 under ice 0.128\n",
      "2018 no satellite coverage 0.165\n",
      "2019 under ice 0.126\n",
      "2019 no satellite coverage 0.291\n"
     ]
    }
   ],
   "source": [
    "#make structure for floats \n",
    "AllFloats = {}\n",
    "\n",
    "for f_ix in range(0,len(files)):\n",
    "    #FLOAT = grids_one_buoy(files[f_ix],display_info = False, DO_ml_crit = 2.5, clear_short = True)\n",
    "    AllFloats[FLOAT.gr[\"WMO_code\"]] = {}\n",
    "    AllFloats[FLOAT.gr[\"WMO_code\"]]['dates_dt']=FLOAT.gr[\"date_dt\"]\n",
    "    #upperlim=0\n",
    "    #lowerlim=np.nanmax(FLOAT.gr[\"mld\"])\n",
    "    #print(FLOAT.gr[\"WMO_code\"],\"Deepest mixed layer: %1.0f m\"%(lowerlim))\n",
    "    AllFloats[FLOAT.gr[\"WMO_code\"]]['chl_intr200'],AllFloats[FLOAT.gr[\"WMO_code\"]]['chl_intr_dMLD'],AllFloats[FLOAT.gr[\"WMO_code\"]]['dint_chla'],AllFloats[FLOAT.gr[\"WMO_code\"]]['chl_intrWC']=integrate_chl(FLOAT)\n",
    "    \n",
    "    ##### Get year range\n",
    "    startyear=FLOAT.gr[\"date_dt\"][0].year\n",
    "    endyear=FLOAT.gr[\"date_dt\"][-1].year\n",
    "    #print(startyear, '-', endyear)\n",
    "    for yix in range(startyear,endyear+1,1):\n",
    "        AllFloats[FLOAT.gr[\"WMO_code\"]][yix] ={}\n",
    "        AllFloats=chl_underornoice(FLOAT,yix)\n",
    "        AllFloats=nosat_chl(FLOAT,yix)\n",
    "\n",
    "#display(AllFloats)"
   ]
  },
  {
   "cell_type": "code",
   "execution_count": 196,
   "id": "45b0d75e-28d4-49cf-99ab-ecef07cd98e8",
   "metadata": {},
   "outputs": [],
   "source": [
    "#chl_plot=AllFloats[FLOAT.gr[\"WMO_code\"]]['chl_intr200']\n",
    "chl=AllFloats[FLOAT.gr[\"WMO_code\"]]['chl_intr200']\n",
    "date=AllFloats[FLOAT.gr[\"WMO_code\"]]['dates_dt']"
   ]
  },
  {
   "cell_type": "code",
   "execution_count": 197,
   "id": "9fbdc2be-5bbe-48c3-8936-54278858734b",
   "metadata": {},
   "outputs": [
    {
     "data": {
      "text/plain": [
       "[<matplotlib.lines.Line2D at 0x1f331b44d90>]"
      ]
     },
     "execution_count": 197,
     "metadata": {},
     "output_type": "execute_result"
    },
    {
     "data": {
      "image/png": "[encoded data removed]",
      "text/plain": [
       "<Figure size 2160x2160 with 2 Axes>"
      ]
     },
     "metadata": {
      "needs_background": "light"
     },
     "output_type": "display_data"
    }
   ],
   "source": [
    "fig = plt.figure(figsize = (30,30))\n",
    "ax0 = fig.add_axes([0.07,0.65,0.47,0.27])\n",
    "ax0.plot(date,chl_plot)\n",
    "ax1=ax0.twinx()\n",
    "ax1.plot(sat_date,NPP_atprofiles, c='black',linewidth=3)"
   ]
  },
  {
   "cell_type": "code",
   "execution_count": null,
   "id": "20d4d6cb-4526-4cde-a745-146c95919fe1",
   "metadata": {},
   "outputs": [],
   "source": []
  }
 ],
 "metadata": {
  "kernelspec": {
   "display_name": "Python 3 (ipykernel)",
   "language": "python",
   "name": "python3"
  },
  "language_info": {
   "codemirror_mode": {
    "name": "ipython",
    "version": 3
   },
   "file_extension": ".py",
   "mimetype": "text/x-python",
   "name": "python",
   "nbconvert_exporter": "python",
   "pygments_lexer": "ipython3",
   "version": "3.9.11"
  }
 },
 "nbformat": 4,
 "nbformat_minor": 5
}
